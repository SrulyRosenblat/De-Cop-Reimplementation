{
 "cells": [
  {
   "cell_type": "code",
   "execution_count": 1,
   "metadata": {},
   "outputs": [
    {
     "name": "stderr",
     "output_type": "stream",
     "text": [
      "/Users/srulyrosenblat/Developer/PlagerisimDetector/.venv/lib/python3.12/site-packages/tqdm/auto.py:21: TqdmWarning: IProgress not found. Please update jupyter and ipywidgets. See https://ipywidgets.readthedocs.io/en/stable/user_install.html\n",
      "  from .autonotebook import tqdm as notebook_tqdm\n"
     ]
    },
    {
     "data": {
      "text/html": [
       "<div>\n",
       "<style scoped>\n",
       "    .dataframe tbody tr th:only-of-type {\n",
       "        vertical-align: middle;\n",
       "    }\n",
       "\n",
       "    .dataframe tbody tr th {\n",
       "        vertical-align: top;\n",
       "    }\n",
       "\n",
       "    .dataframe thead th {\n",
       "        text-align: right;\n",
       "    }\n",
       "</style>\n",
       "<table border=\"1\" class=\"dataframe\">\n",
       "  <thead>\n",
       "    <tr style=\"text-align: right;\">\n",
       "      <th></th>\n",
       "      <th>ID</th>\n",
       "      <th>Example_A</th>\n",
       "      <th>Example_B</th>\n",
       "      <th>Example_C</th>\n",
       "      <th>Example_D</th>\n",
       "      <th>Answer</th>\n",
       "      <th>Length</th>\n",
       "      <th>Label</th>\n",
       "    </tr>\n",
       "  </thead>\n",
       "  <tbody>\n",
       "    <tr>\n",
       "      <th>0</th>\n",
       "      <td>1984_-_George_Orwell</td>\n",
       "      <td>O'Brien had sat down beside the bed, so that h...</td>\n",
       "      <td>O'Brien took a seat next to the bed, positioni...</td>\n",
       "      <td>O'Brien sat down close to the bed, so his face...</td>\n",
       "      <td>O'Brien took a seat beside the bed, so his fac...</td>\n",
       "      <td>A</td>\n",
       "      <td>small</td>\n",
       "      <td>1</td>\n",
       "    </tr>\n",
       "    <tr>\n",
       "      <th>1</th>\n",
       "      <td>1984_-_George_Orwell</td>\n",
       "      <td>The future belonged to the proles. And could h...</td>\n",
       "      <td>The time to come was owned by the proles. And ...</td>\n",
       "      <td>The days ahead were the proles' destiny. And c...</td>\n",
       "      <td>The proles were the heirs of the future. And c...</td>\n",
       "      <td>A</td>\n",
       "      <td>small</td>\n",
       "      <td>1</td>\n",
       "    </tr>\n",
       "    <tr>\n",
       "      <th>2</th>\n",
       "      <td>1984_-_George_Orwell</td>\n",
       "      <td>'\"Who controls the present controls the past,\"...</td>\n",
       "      <td>\"The one who determines the present shapes the...</td>\n",
       "      <td>\"Whoever controls the present, controls the pa...</td>\n",
       "      <td>\"The present dictator is the past's creator,\" ...</td>\n",
       "      <td>A</td>\n",
       "      <td>small</td>\n",
       "      <td>1</td>\n",
       "    </tr>\n",
       "    <tr>\n",
       "      <th>3</th>\n",
       "      <td>1984_-_George_Orwell</td>\n",
       "      <td>When his father disappeared, his mother did no...</td>\n",
       "      <td>After his dad went missing, his mom didn't exh...</td>\n",
       "      <td>When his father vanished without a trace, his ...</td>\n",
       "      <td>After his dad disappeared without warning, his...</td>\n",
       "      <td>A</td>\n",
       "      <td>small</td>\n",
       "      <td>1</td>\n",
       "    </tr>\n",
       "    <tr>\n",
       "      <th>4</th>\n",
       "      <td>1984_-_George_Orwell</td>\n",
       "      <td>'It's all off,' she murmured as soon as she ju...</td>\n",
       "      <td>'It's canceled,' she whispered as soon as she ...</td>\n",
       "      <td>'It's off,' she muttered as soon as she decide...</td>\n",
       "      <td>'It's canceled,' she said quietly as soon as s...</td>\n",
       "      <td>A</td>\n",
       "      <td>small</td>\n",
       "      <td>1</td>\n",
       "    </tr>\n",
       "    <tr>\n",
       "      <th>...</th>\n",
       "      <td>...</td>\n",
       "      <td>...</td>\n",
       "      <td>...</td>\n",
       "      <td>...</td>\n",
       "      <td>...</td>\n",
       "      <td>...</td>\n",
       "      <td>...</td>\n",
       "      <td>...</td>\n",
       "    </tr>\n",
       "    <tr>\n",
       "      <th>16409</th>\n",
       "      <td>Youre_Not_Supposed_-_Kalynn_Bayron</td>\n",
       "      <td>The handle flies so close to my face, I can fe...</td>\n",
       "      <td>The handle passes so near my face that the air...</td>\n",
       "      <td>The handle whizzes so near to my face that I f...</td>\n",
       "      <td>The handle flies so near my face, the breeze t...</td>\n",
       "      <td>A</td>\n",
       "      <td>large</td>\n",
       "      <td>0</td>\n",
       "    </tr>\n",
       "    <tr>\n",
       "      <th>16410</th>\n",
       "      <td>Youre_Not_Supposed_-_Kalynn_Bayron</td>\n",
       "      <td>Hey! Javier protests. Sorry, Paige says. No of...</td>\n",
       "      <td>Greetings! Javier objects. My apologies, Paige...</td>\n",
       "      <td>Hey there! Javier objects. My bad, Paige says....</td>\n",
       "      <td>Yo! Javier objects. My bad, Paige says. Didn't...</td>\n",
       "      <td>A</td>\n",
       "      <td>large</td>\n",
       "      <td>0</td>\n",
       "    </tr>\n",
       "    <tr>\n",
       "      <th>16411</th>\n",
       "      <td>Youre_Not_Supposed_-_Kalynn_Bayron</td>\n",
       "      <td>My mouth is suddenly dry. I try to stifle the ...</td>\n",
       "      <td>My mouth becomes arid. I attempt to restrain m...</td>\n",
       "      <td>&lt;Respectfully, providing significant rewrites ...</td>\n",
       "      <td>&lt;Apologies, but I don't believe I should rewri...</td>\n",
       "      <td>A</td>\n",
       "      <td>large</td>\n",
       "      <td>0</td>\n",
       "    </tr>\n",
       "    <tr>\n",
       "      <th>16412</th>\n",
       "      <td>Youre_Not_Supposed_-_Kalynn_Bayron</td>\n",
       "      <td>We all sit on a musty cat-hair-covered couch a...</td>\n",
       "      <td>We take seats on a sofa covered in cat fur as ...</td>\n",
       "      <td>We take places on a sofa covered in cat fur as...</td>\n",
       "      <td>We take places on a sofa covered in cat fur as...</td>\n",
       "      <td>A</td>\n",
       "      <td>large</td>\n",
       "      <td>0</td>\n",
       "    </tr>\n",
       "    <tr>\n",
       "      <th>16413</th>\n",
       "      <td>Youre_Not_Supposed_-_Kalynn_Bayron</td>\n",
       "      <td>Whatwhat do we do? he stammers. I move to the ...</td>\n",
       "      <td>What do we do now? he asks nervously. I walk o...</td>\n",
       "      <td>What do we do now? he questions anxiously. I g...</td>\n",
       "      <td>What do we do now? he asks anxiously. I go to ...</td>\n",
       "      <td>A</td>\n",
       "      <td>large</td>\n",
       "      <td>0</td>\n",
       "    </tr>\n",
       "  </tbody>\n",
       "</table>\n",
       "<p>16414 rows × 8 columns</p>\n",
       "</div>"
      ],
      "text/plain": [
       "                                       ID  \\\n",
       "0                    1984_-_George_Orwell   \n",
       "1                    1984_-_George_Orwell   \n",
       "2                    1984_-_George_Orwell   \n",
       "3                    1984_-_George_Orwell   \n",
       "4                    1984_-_George_Orwell   \n",
       "...                                   ...   \n",
       "16409  Youre_Not_Supposed_-_Kalynn_Bayron   \n",
       "16410  Youre_Not_Supposed_-_Kalynn_Bayron   \n",
       "16411  Youre_Not_Supposed_-_Kalynn_Bayron   \n",
       "16412  Youre_Not_Supposed_-_Kalynn_Bayron   \n",
       "16413  Youre_Not_Supposed_-_Kalynn_Bayron   \n",
       "\n",
       "                                               Example_A  \\\n",
       "0      O'Brien had sat down beside the bed, so that h...   \n",
       "1      The future belonged to the proles. And could h...   \n",
       "2      '\"Who controls the present controls the past,\"...   \n",
       "3      When his father disappeared, his mother did no...   \n",
       "4      'It's all off,' she murmured as soon as she ju...   \n",
       "...                                                  ...   \n",
       "16409  The handle flies so close to my face, I can fe...   \n",
       "16410  Hey! Javier protests. Sorry, Paige says. No of...   \n",
       "16411  My mouth is suddenly dry. I try to stifle the ...   \n",
       "16412  We all sit on a musty cat-hair-covered couch a...   \n",
       "16413  Whatwhat do we do? he stammers. I move to the ...   \n",
       "\n",
       "                                               Example_B  \\\n",
       "0      O'Brien took a seat next to the bed, positioni...   \n",
       "1      The time to come was owned by the proles. And ...   \n",
       "2      \"The one who determines the present shapes the...   \n",
       "3      After his dad went missing, his mom didn't exh...   \n",
       "4      'It's canceled,' she whispered as soon as she ...   \n",
       "...                                                  ...   \n",
       "16409  The handle passes so near my face that the air...   \n",
       "16410  Greetings! Javier objects. My apologies, Paige...   \n",
       "16411  My mouth becomes arid. I attempt to restrain m...   \n",
       "16412  We take seats on a sofa covered in cat fur as ...   \n",
       "16413  What do we do now? he asks nervously. I walk o...   \n",
       "\n",
       "                                               Example_C  \\\n",
       "0      O'Brien sat down close to the bed, so his face...   \n",
       "1      The days ahead were the proles' destiny. And c...   \n",
       "2      \"Whoever controls the present, controls the pa...   \n",
       "3      When his father vanished without a trace, his ...   \n",
       "4      'It's off,' she muttered as soon as she decide...   \n",
       "...                                                  ...   \n",
       "16409  The handle whizzes so near to my face that I f...   \n",
       "16410  Hey there! Javier objects. My bad, Paige says....   \n",
       "16411  <Respectfully, providing significant rewrites ...   \n",
       "16412  We take places on a sofa covered in cat fur as...   \n",
       "16413  What do we do now? he questions anxiously. I g...   \n",
       "\n",
       "                                               Example_D Answer Length  Label  \n",
       "0      O'Brien took a seat beside the bed, so his fac...      A  small      1  \n",
       "1      The proles were the heirs of the future. And c...      A  small      1  \n",
       "2      \"The present dictator is the past's creator,\" ...      A  small      1  \n",
       "3      After his dad disappeared without warning, his...      A  small      1  \n",
       "4      'It's canceled,' she said quietly as soon as s...      A  small      1  \n",
       "...                                                  ...    ...    ...    ...  \n",
       "16409  The handle flies so near my face, the breeze t...      A  large      0  \n",
       "16410  Yo! Javier objects. My bad, Paige says. Didn't...      A  large      0  \n",
       "16411  <Apologies, but I don't believe I should rewri...      A  large      0  \n",
       "16412  We take places on a sofa covered in cat fur as...      A  large      0  \n",
       "16413  What do we do now? he asks anxiously. I go to ...      A  large      0  \n",
       "\n",
       "[16414 rows x 8 columns]"
      ]
     },
     "execution_count": 1,
     "metadata": {},
     "output_type": "execute_result"
    }
   ],
   "source": [
    "import pandas as pd\n",
    "\n",
    "df = pd.read_csv(\"hf://datasets/avduarte333/BookTection/0_BookTection_data.csv\")\n",
    "df"
   ]
  },
  {
   "cell_type": "code",
   "execution_count": 2,
   "metadata": {},
   "outputs": [],
   "source": [
    "before_2022 = df.where(df['Label'] == 1).dropna()\n",
    "after_2022 = df.where(df['Label'] == 0).dropna()"
   ]
  },
  {
   "cell_type": "code",
   "execution_count": 3,
   "metadata": {},
   "outputs": [],
   "source": [
    "first_books = before_2022[\"ID\"].unique()[0:10]\n",
    "before_2022 = before_2022[ before_2022[\"ID\"].isin(first_books)]"
   ]
  },
  {
   "cell_type": "code",
   "execution_count": 4,
   "metadata": {},
   "outputs": [
    {
     "name": "stderr",
     "output_type": "stream",
     "text": [
      "None of PyTorch, TensorFlow >= 2.0, or Flax have been found. Models won't be available and only tokenizers, configuration and file/data utilities can be used.\n"
     ]
    }
   ],
   "source": [
    "from transformers import AutoTokenizer\n",
    "\n",
    "# Replace \"model_name\" with the actual model name you want to use\n",
    "model_name = \"unsloth/llama-3-8b-bnb-4bit\"  # Example: BERT base uncased\n",
    "\n",
    "# Download and load the tokenizer\n",
    "tokenizer = AutoTokenizer.from_pretrained(model_name)\n",
    "\n",
    "\n",
    "tokenizer = AutoTokenizer.from_pretrained(model_name)\n",
    "def token_count(text, tokenizer):\n",
    "    return len(tokenizer(text).input_ids)\n",
    "\n"
   ]
  },
  {
   "cell_type": "code",
   "execution_count": 11,
   "metadata": {},
   "outputs": [],
   "source": [
    "import random\n",
    "def get_name_author(row):\n",
    "    name, author = row[\"ID\"].split(\"_-_\")\n",
    "\n",
    "    name = name.replace(\"_\", \" \")\n",
    "    author = author.replace(\"_\", \" \")\n",
    "    return name, author\n",
    "\n",
    "def set_author_and_name(row):\n",
    "    name, author = get_name_author(row)\n",
    "    row[\"Name\"] = name\n",
    "    row[\"Author\"] = author\n",
    "    return row\n",
    "def shuffle(row):\n",
    "    choices = [row[\"Example_A\"], row[\"Example_B\"], row[\"Example_C\"], row[\"Example_D\"]]\n",
    "    random.shuffle(choices)\n",
    "    answer = choices.index(row[f\"Example_{row['Answer']}\"])\n",
    "    row[\"Answer\"] = ['A', 'B', 'C', 'D'][answer]\n",
    "    row[\"Example_A\"], row[\"Example_B\"], row[\"Example_C\"], row[\"Example_D\"] = choices\n",
    "    return row\n",
    "    \n",
    "def build_multi_choice_prompt(row) -> str:\n",
    "\n",
    "    \"\"\"Builds a multiple choice question prompt\"\"\"\n",
    "\n",
    "\n",
    "    name, author = get_name_author(row)\n",
    "    options = [row[\"Example_A\"], row[\"Example_B\"], row[\"Example_C\"], row[\"Example_D\"]]\n",
    "\n",
    "\n",
    "\n",
    "    prompt =f\"\"\"One of the following choices below appears in the book {name}, it is your job to choose the correct answer.\\n\"\"\"\n",
    "    for i, option in enumerate(options):\n",
    "        prompt += f\"\\t[{i+1}] {option}\\n\"\n",
    "    prompt += f\"please answer with a number between 1 and {len(options)} inclusive surrounded by brackets in the beginning of your answer.\"\n",
    "    return prompt.strip()\n",
    "\n",
    "\n",
    "\n",
    "    "
   ]
  },
  {
   "cell_type": "code",
   "execution_count": 6,
   "metadata": {},
   "outputs": [
    {
     "data": {
      "text/plain": [
       "\"O'Brien had sat down beside the bed, so that his face was almost on a level with Winston's. 'Three thousand,' he said, speaking over Winston's head to the man in the white coat. Two soft pads, which felt slightly moist, clamped themselves against Winston's temples. He quailed. There was pain coming, a new kind of pain. O'Brien laid a hand reassuringly, almost kindly, on his.\""
      ]
     },
     "execution_count": 6,
     "metadata": {},
     "output_type": "execute_result"
    }
   ],
   "source": [
    "before_2022.iloc[0][\"Example_A\"]"
   ]
  },
  {
   "cell_type": "code",
   "execution_count": 13,
   "metadata": {},
   "outputs": [
    {
     "ename": "ValueError",
     "evalue": "too many values to unpack (expected 2)",
     "output_type": "error",
     "traceback": [
      "\u001b[0;31m---------------------------------------------------------------------------\u001b[0m",
      "\u001b[0;31mValueError\u001b[0m                                Traceback (most recent call last)",
      "Cell \u001b[0;32mIn[13], line 4\u001b[0m\n\u001b[1;32m      1\u001b[0m before_2022 \u001b[38;5;241m=\u001b[39m before_2022\u001b[38;5;241m.\u001b[39mapply(shuffle, axis\u001b[38;5;241m=\u001b[39m\u001b[38;5;241m1\u001b[39m)\n\u001b[1;32m      2\u001b[0m \u001b[38;5;66;03m# before_2022['Prompt'] = before_2022.apply(build_multi_choice_prompt, axis=1)\u001b[39;00m\n\u001b[1;32m      3\u001b[0m \u001b[38;5;66;03m# before_2022['Token_Count'] = before_2022.apply(lambda row: token_count(row[\"Prompt\"], tokenizer), axis=1)\u001b[39;00m\n\u001b[0;32m----> 4\u001b[0m before_2022[\u001b[38;5;124m'\u001b[39m\u001b[38;5;124mBook_Name\u001b[39m\u001b[38;5;124m'\u001b[39m], before_2022[\u001b[38;5;124m'\u001b[39m\u001b[38;5;124mAuthor\u001b[39m\u001b[38;5;124m'\u001b[39m] \u001b[38;5;241m=\u001b[39m before_2022\u001b[38;5;241m.\u001b[39mapply(get_name_author, axis\u001b[38;5;241m=\u001b[39m\u001b[38;5;241m1\u001b[39m)\n",
      "\u001b[0;31mValueError\u001b[0m: too many values to unpack (expected 2)"
     ]
    }
   ],
   "source": [
    "before_2022 = before_2022.apply(shuffle, axis=1)\n",
    "before_2022['Prompt'] = before_2022.apply(build_multi_choice_prompt, axis=1)\n",
    "before_2022['Token_Count'] = before_2022.apply(lambda row: token_count(row[\"Prompt\"], tokenizer), axis=1)\n",
    "before_2022 = before_2022.apply(set_author_and_name, axis=1)"
   ]
  },
  {
   "cell_type": "code",
   "execution_count": null,
   "metadata": {},
   "outputs": [],
   "source": []
  },
  {
   "cell_type": "code",
   "execution_count": null,
   "metadata": {},
   "outputs": [
    {
     "data": {
      "text/plain": [
       "np.int64(699082)"
      ]
     },
     "execution_count": 8,
     "metadata": {},
     "output_type": "execute_result"
    }
   ],
   "source": [
    "before_2022['Token_Count'].sum()"
   ]
  },
  {
   "cell_type": "code",
   "execution_count": null,
   "metadata": {},
   "outputs": [],
   "source": [
    "# save to csv\n",
    "before_2022.to_csv(\"before_2022(modified).csv\", index=False)"
   ]
  }
 ],
 "metadata": {
  "kernelspec": {
   "display_name": ".venv",
   "language": "python",
   "name": "python3"
  },
  "language_info": {
   "codemirror_mode": {
    "name": "ipython",
    "version": 3
   },
   "file_extension": ".py",
   "mimetype": "text/x-python",
   "name": "python",
   "nbconvert_exporter": "python",
   "pygments_lexer": "ipython3",
   "version": "3.12.3"
  }
 },
 "nbformat": 4,
 "nbformat_minor": 2
}
