{
 "cells": [
  {
   "cell_type": "markdown",
   "metadata": {},
   "source": [
    "### import benchmarking function"
   ]
  },
  {
   "cell_type": "code",
   "execution_count": 2,
   "metadata": {},
   "outputs": [],
   "source": [
    "from data_detector import benchmark"
   ]
  },
  {
   "cell_type": "markdown",
   "metadata": {},
   "source": [
    "## run a benchmark\n"
   ]
  },
  {
   "cell_type": "markdown",
   "metadata": {},
   "source": [
    "#### Using OpenAI models for generation and testing"
   ]
  },
  {
   "cell_type": "code",
   "execution_count": 14,
   "metadata": {},
   "outputs": [
    {
     "name": "stdout",
     "output_type": "stream",
     "text": [
      "Benchmarking A Day of Fallen Night by Samantha Shannon\n"
     ]
    },
    {
     "name": "stderr",
     "output_type": "stream",
     "text": [
      "100%|██████████| 100/100 [05:43<00:00,  3.43s/it]\n"
     ]
    },
    {
     "name": "stdout",
     "output_type": "stream",
     "text": [
      "Score: 0.29\n",
      "Benchmarking A Living Remedy by Nicole Chung\n"
     ]
    },
    {
     "name": "stderr",
     "output_type": "stream",
     "text": [
      "100%|██████████| 100/100 [05:18<00:00,  3.19s/it]"
     ]
    },
    {
     "name": "stdout",
     "output_type": "stream",
     "text": [
      "Score: 0.37\n",
      "Total Score: 0.33\n"
     ]
    },
    {
     "name": "stderr",
     "output_type": "stream",
     "text": [
      "\n"
     ]
    }
   ],
   "source": [
    "guess_chance = benchmark('sample_books_after_2022.csv',content_type=\"book\",generations_per_model=3,test_model=\"gpt-3.5-turbo\", models_to_plagiarize=['gpt-3.5-turbo'],generations_file_name='gpt-3.5-turbo(baseline).csv')"
   ]
  },
  {
   "cell_type": "code",
   "execution_count": 15,
   "metadata": {},
   "outputs": [
    {
     "name": "stdout",
     "output_type": "stream",
     "text": [
      "Benchmarking A Day of Fallen Night by Samantha Shannon\n"
     ]
    },
    {
     "name": "stderr",
     "output_type": "stream",
     "text": [
      "100%|██████████| 100/100 [05:17<00:00,  3.17s/it]\n"
     ]
    },
    {
     "name": "stdout",
     "output_type": "stream",
     "text": [
      "Score: 0.35\n",
      "Benchmarking A Living Remedy by Nicole Chung\n"
     ]
    },
    {
     "name": "stderr",
     "output_type": "stream",
     "text": [
      " 46%|████▌     | 46/100 [01:50<02:31,  2.80s/it]"
     ]
    }
   ],
   "source": [
    "guess_chance = benchmark('sample_books_after_2022.csv',content_type=\"book\",generations_per_model=3,test_model=\"gpt-3.5-turbo\", models_to_plagiarize=['gpt-3.5-turbo'],generations_file_name='gpt-3.5-turbo(Possible In Model).csv')"
   ]
  },
  {
   "cell_type": "markdown",
   "metadata": {},
   "source": [
    "#### combining platform providers and giving a larger multiple choice, for the model to pick from"
   ]
  },
  {
   "cell_type": "code",
   "execution_count": null,
   "metadata": {},
   "outputs": [],
   "source": [
    "guess_chance = benchmark('sample_arXiv_after_2022.csv',content_type=\"article\",generations_per_model=9,test_model=\"gpt-3.5-turbo\", models_to_plagiarize=['fireworks_ai/llama-v3-8b-instruct'],generations_file_name='gpt-3.5-turbo(baseline, 10 choices).csv')"
   ]
  },
  {
   "cell_type": "code",
   "execution_count": null,
   "metadata": {},
   "outputs": [],
   "source": [
    "benchmark ('sample_arXiv_after_2022.csv',content_type=\"article\",generations_per_model=9,test_model=\"gpt-3.5-turbo\", models_to_plagiarize=['fireworks_ai/llama-v3-8b-instruct'],guess_chance=guess_chance, generations_file_name='gpt-3.5-turbo(Possibly In Model, 10 choices).csv')"
   ]
  },
  {
   "cell_type": "markdown",
   "metadata": {},
   "source": [
    "#### using multiple models from fireworks api to generate alternate texts"
   ]
  },
  {
   "cell_type": "code",
   "execution_count": 9,
   "metadata": {},
   "outputs": [
    {
     "name": "stdout",
     "output_type": "stream",
     "text": [
      "Benchmarking A Day of Fallen Night by Samantha Shannon\n"
     ]
    },
    {
     "name": "stderr",
     "output_type": "stream",
     "text": [
      "100%|██████████| 100/100 [07:35<00:00,  4.55s/it]\n"
     ]
    },
    {
     "name": "stdout",
     "output_type": "stream",
     "text": [
      "Score: 0.27\n",
      "Benchmarking A Living Remedy by Nicole Chung\n"
     ]
    },
    {
     "name": "stderr",
     "output_type": "stream",
     "text": [
      "100%|██████████| 100/100 [07:02<00:00,  4.23s/it]"
     ]
    },
    {
     "name": "stdout",
     "output_type": "stream",
     "text": [
      "Score: 0.19\n",
      "Total Score: 0.23\n"
     ]
    },
    {
     "name": "stderr",
     "output_type": "stream",
     "text": [
      "\n"
     ]
    }
   ],
   "source": [
    "random_chance = benchmark('sample_books_after_2022.csv',content_type=\"book\",generations_per_model=2,test_model=\"fireworks_ai/llama-v3-8b-instruct\", models_to_plagiarize=['fireworks_ai/llama-v3-8b-instruct','fireworks_ai/mistral-7b-instruct-v3'])"
   ]
  },
  {
   "cell_type": "code",
   "execution_count": 11,
   "metadata": {},
   "outputs": [
    {
     "name": "stdout",
     "output_type": "stream",
     "text": [
      "Benchmarking 1984 by George Orwell\n"
     ]
    },
    {
     "name": "stderr",
     "output_type": "stream",
     "text": [
      "  0%|          | 0/99 [00:00<?, ?it/s]"
     ]
    },
    {
     "name": "stderr",
     "output_type": "stream",
     "text": [
      "100%|██████████| 99/99 [07:02<00:00,  4.26s/it]\n"
     ]
    },
    {
     "name": "stdout",
     "output_type": "stream",
     "text": [
      "Score: 0.43434343434343436 Score - Guess Chance: 0.20434343434343435\n",
      "Benchmarking A Game of Thrones by George R. R. Martin\n"
     ]
    },
    {
     "name": "stderr",
     "output_type": "stream",
     "text": [
      "100%|██████████| 99/99 [08:09<00:00,  4.95s/it]"
     ]
    },
    {
     "name": "stdout",
     "output_type": "stream",
     "text": [
      "Score: 0.41414141414141414 Score - Guess Chance: 0.18414141414141413\n",
      "Total Score: 0.42424242424242425\n"
     ]
    },
    {
     "name": "stderr",
     "output_type": "stream",
     "text": [
      "\n"
     ]
    },
    {
     "data": {
      "text/plain": [
       "0.42424242424242425"
      ]
     },
     "execution_count": 11,
     "metadata": {},
     "output_type": "execute_result"
    }
   ],
   "source": [
    "benchmark('sample_books_pre_2022.csv',content_type=\"book\",generations_per_model=2,test_model=\"fireworks_ai/llama-v3-8b-instruct\", models_to_plagiarize=['fireworks_ai/llama-v3-8b-instruct','fireworks_ai/mistral-7b-instruct-v3'],guess_chance=random_chance)"
   ]
  }
 ],
 "metadata": {
  "kernelspec": {
   "display_name": ".venv",
   "language": "python",
   "name": "python3"
  },
  "language_info": {
   "codemirror_mode": {
    "name": "ipython",
    "version": 3
   },
   "file_extension": ".py",
   "mimetype": "text/x-python",
   "name": "python",
   "nbconvert_exporter": "python",
   "pygments_lexer": "ipython3",
   "version": "3.12.3"
  }
 },
 "nbformat": 4,
 "nbformat_minor": 2
}
